{
  "nbformat": 4,
  "nbformat_minor": 0,
  "metadata": {
    "colab": {
      "provenance": [],
      "mount_file_id": "1CXUBwEkN2ZUj09d8UOZxBREeyxCwzcnP",
      "authorship_tag": "ABX9TyNYWO7MfYNohUdOZvttzPRi",
      "include_colab_link": true
    },
    "kernelspec": {
      "name": "python3",
      "display_name": "Python 3"
    },
    "language_info": {
      "name": "python"
    }
  },
  "cells": [
    {
      "cell_type": "markdown",
      "metadata": {
        "id": "view-in-github",
        "colab_type": "text"
      },
      "source": [
        "<a href=\"https://colab.research.google.com/github/saridango/ncf-music-rec/blob/main/music_rec.ipynb\" target=\"_parent\"><img src=\"https://colab.research.google.com/assets/colab-badge.svg\" alt=\"Open In Colab\"/></a>"
      ]
    },
    {
      "cell_type": "markdown",
      "source": [
        "# Song Recommendation System\n",
        "\n",
        "- Inspiration: Spotify's AI playlist curation: DJ, Daylist\n",
        "- Neural Collaborative Filtering (NCF) Model\n",
        "- Objective: Recommend new songs based on user's listening history.\n",
        "- Evaluate several song audio features and user interaction rating\n",
        "\n"
      ],
      "metadata": {
        "id": "uyC1onF2-_CR"
      }
    },
    {
      "cell_type": "markdown",
      "source": [
        "## Dataset Overview\n",
        "Million Song Subset (extracted from the [Million Song Dataset](http://millionsongdataset.com/pages/getting-dataset/))\n",
        "\n",
        "- Contains metadata for 10,000 songs from various artists and releases\n",
        "- includes song-specific audio attributes and popularity metrics"
      ],
      "metadata": {
        "id": "ClDC7-gIAqU-"
      }
    },
    {
      "cell_type": "markdown",
      "source": [
        "## Purpose of the Dataset\n",
        "This dataset serves as the foundational input for building and evaluating a song recommendation system. Key use cases include:\n",
        "\n",
        "- Model Training:\n",
        "Train a deep learning model to predict user preferences based on song attributes.\n",
        "\n",
        "- Audio Analysis:\n",
        "Use audio features (e.g., tempo, key, mode, loudness) to cluster or classify songs.\n",
        "\n",
        "- Recommendation:\n",
        "Generate personalized song recommendations by predicting a user’s rating for unseen songs."
      ],
      "metadata": {
        "id": "3XUnWXguBJGf"
      }
    },
    {
      "cell_type": "code",
      "source": [
        "!pip install pandas numpy scikit-learn tensorflow matplotlib\n"
      ],
      "metadata": {
        "colab": {
          "base_uri": "https://localhost:8080/"
        },
        "id": "ZfRLX6tBjxbV",
        "outputId": "56019c07-9be9-47a3-f42a-ca66f7de92ee"
      },
      "execution_count": null,
      "outputs": [
        {
          "output_type": "stream",
          "name": "stdout",
          "text": [
            "Requirement already satisfied: pandas in /usr/local/lib/python3.10/dist-packages (2.2.2)\n",
            "Requirement already satisfied: numpy in /usr/local/lib/python3.10/dist-packages (1.26.4)\n",
            "Requirement already satisfied: scikit-learn in /usr/local/lib/python3.10/dist-packages (1.5.2)\n",
            "Requirement already satisfied: tensorflow in /usr/local/lib/python3.10/dist-packages (2.17.1)\n",
            "Requirement already satisfied: matplotlib in /usr/local/lib/python3.10/dist-packages (3.8.0)\n",
            "Requirement already satisfied: python-dateutil>=2.8.2 in /usr/local/lib/python3.10/dist-packages (from pandas) (2.8.2)\n",
            "Requirement already satisfied: pytz>=2020.1 in /usr/local/lib/python3.10/dist-packages (from pandas) (2024.2)\n",
            "Requirement already satisfied: tzdata>=2022.7 in /usr/local/lib/python3.10/dist-packages (from pandas) (2024.2)\n",
            "Requirement already satisfied: scipy>=1.6.0 in /usr/local/lib/python3.10/dist-packages (from scikit-learn) (1.13.1)\n",
            "Requirement already satisfied: joblib>=1.2.0 in /usr/local/lib/python3.10/dist-packages (from scikit-learn) (1.4.2)\n",
            "Requirement already satisfied: threadpoolctl>=3.1.0 in /usr/local/lib/python3.10/dist-packages (from scikit-learn) (3.5.0)\n",
            "Requirement already satisfied: absl-py>=1.0.0 in /usr/local/lib/python3.10/dist-packages (from tensorflow) (1.4.0)\n",
            "Requirement already satisfied: astunparse>=1.6.0 in /usr/local/lib/python3.10/dist-packages (from tensorflow) (1.6.3)\n",
            "Requirement already satisfied: flatbuffers>=24.3.25 in /usr/local/lib/python3.10/dist-packages (from tensorflow) (24.3.25)\n",
            "Requirement already satisfied: gast!=0.5.0,!=0.5.1,!=0.5.2,>=0.2.1 in /usr/local/lib/python3.10/dist-packages (from tensorflow) (0.6.0)\n",
            "Requirement already satisfied: google-pasta>=0.1.1 in /usr/local/lib/python3.10/dist-packages (from tensorflow) (0.2.0)\n",
            "Requirement already satisfied: h5py>=3.10.0 in /usr/local/lib/python3.10/dist-packages (from tensorflow) (3.12.1)\n",
            "Requirement already satisfied: libclang>=13.0.0 in /usr/local/lib/python3.10/dist-packages (from tensorflow) (18.1.1)\n",
            "Requirement already satisfied: ml-dtypes<0.5.0,>=0.3.1 in /usr/local/lib/python3.10/dist-packages (from tensorflow) (0.4.1)\n",
            "Requirement already satisfied: opt-einsum>=2.3.2 in /usr/local/lib/python3.10/dist-packages (from tensorflow) (3.4.0)\n",
            "Requirement already satisfied: packaging in /usr/local/lib/python3.10/dist-packages (from tensorflow) (24.2)\n",
            "Requirement already satisfied: protobuf!=4.21.0,!=4.21.1,!=4.21.2,!=4.21.3,!=4.21.4,!=4.21.5,<5.0.0dev,>=3.20.3 in /usr/local/lib/python3.10/dist-packages (from tensorflow) (4.25.5)\n",
            "Requirement already satisfied: requests<3,>=2.21.0 in /usr/local/lib/python3.10/dist-packages (from tensorflow) (2.32.3)\n",
            "Requirement already satisfied: setuptools in /usr/local/lib/python3.10/dist-packages (from tensorflow) (75.1.0)\n",
            "Requirement already satisfied: six>=1.12.0 in /usr/local/lib/python3.10/dist-packages (from tensorflow) (1.16.0)\n",
            "Requirement already satisfied: termcolor>=1.1.0 in /usr/local/lib/python3.10/dist-packages (from tensorflow) (2.5.0)\n",
            "Requirement already satisfied: typing-extensions>=3.6.6 in /usr/local/lib/python3.10/dist-packages (from tensorflow) (4.12.2)\n",
            "Requirement already satisfied: wrapt>=1.11.0 in /usr/local/lib/python3.10/dist-packages (from tensorflow) (1.16.0)\n",
            "Requirement already satisfied: grpcio<2.0,>=1.24.3 in /usr/local/lib/python3.10/dist-packages (from tensorflow) (1.68.0)\n",
            "Requirement already satisfied: tensorboard<2.18,>=2.17 in /usr/local/lib/python3.10/dist-packages (from tensorflow) (2.17.1)\n",
            "Requirement already satisfied: keras>=3.2.0 in /usr/local/lib/python3.10/dist-packages (from tensorflow) (3.5.0)\n",
            "Requirement already satisfied: tensorflow-io-gcs-filesystem>=0.23.1 in /usr/local/lib/python3.10/dist-packages (from tensorflow) (0.37.1)\n",
            "Requirement already satisfied: contourpy>=1.0.1 in /usr/local/lib/python3.10/dist-packages (from matplotlib) (1.3.1)\n",
            "Requirement already satisfied: cycler>=0.10 in /usr/local/lib/python3.10/dist-packages (from matplotlib) (0.12.1)\n",
            "Requirement already satisfied: fonttools>=4.22.0 in /usr/local/lib/python3.10/dist-packages (from matplotlib) (4.55.0)\n",
            "Requirement already satisfied: kiwisolver>=1.0.1 in /usr/local/lib/python3.10/dist-packages (from matplotlib) (1.4.7)\n",
            "Requirement already satisfied: pillow>=6.2.0 in /usr/local/lib/python3.10/dist-packages (from matplotlib) (11.0.0)\n",
            "Requirement already satisfied: pyparsing>=2.3.1 in /usr/local/lib/python3.10/dist-packages (from matplotlib) (3.2.0)\n",
            "Requirement already satisfied: wheel<1.0,>=0.23.0 in /usr/local/lib/python3.10/dist-packages (from astunparse>=1.6.0->tensorflow) (0.45.0)\n",
            "Requirement already satisfied: rich in /usr/local/lib/python3.10/dist-packages (from keras>=3.2.0->tensorflow) (13.9.4)\n",
            "Requirement already satisfied: namex in /usr/local/lib/python3.10/dist-packages (from keras>=3.2.0->tensorflow) (0.0.8)\n",
            "Requirement already satisfied: optree in /usr/local/lib/python3.10/dist-packages (from keras>=3.2.0->tensorflow) (0.13.1)\n",
            "Requirement already satisfied: charset-normalizer<4,>=2 in /usr/local/lib/python3.10/dist-packages (from requests<3,>=2.21.0->tensorflow) (3.4.0)\n",
            "Requirement already satisfied: idna<4,>=2.5 in /usr/local/lib/python3.10/dist-packages (from requests<3,>=2.21.0->tensorflow) (3.10)\n",
            "Requirement already satisfied: urllib3<3,>=1.21.1 in /usr/local/lib/python3.10/dist-packages (from requests<3,>=2.21.0->tensorflow) (2.2.3)\n",
            "Requirement already satisfied: certifi>=2017.4.17 in /usr/local/lib/python3.10/dist-packages (from requests<3,>=2.21.0->tensorflow) (2024.8.30)\n",
            "Requirement already satisfied: markdown>=2.6.8 in /usr/local/lib/python3.10/dist-packages (from tensorboard<2.18,>=2.17->tensorflow) (3.7)\n",
            "Requirement already satisfied: tensorboard-data-server<0.8.0,>=0.7.0 in /usr/local/lib/python3.10/dist-packages (from tensorboard<2.18,>=2.17->tensorflow) (0.7.2)\n",
            "Requirement already satisfied: werkzeug>=1.0.1 in /usr/local/lib/python3.10/dist-packages (from tensorboard<2.18,>=2.17->tensorflow) (3.1.3)\n",
            "Requirement already satisfied: MarkupSafe>=2.1.1 in /usr/local/lib/python3.10/dist-packages (from werkzeug>=1.0.1->tensorboard<2.18,>=2.17->tensorflow) (3.0.2)\n",
            "Requirement already satisfied: markdown-it-py>=2.2.0 in /usr/local/lib/python3.10/dist-packages (from rich->keras>=3.2.0->tensorflow) (3.0.0)\n",
            "Requirement already satisfied: pygments<3.0.0,>=2.13.0 in /usr/local/lib/python3.10/dist-packages (from rich->keras>=3.2.0->tensorflow) (2.18.0)\n",
            "Requirement already satisfied: mdurl~=0.1 in /usr/local/lib/python3.10/dist-packages (from markdown-it-py>=2.2.0->rich->keras>=3.2.0->tensorflow) (0.1.2)\n"
          ]
        }
      ]
    },
    {
      "cell_type": "code",
      "execution_count": null,
      "metadata": {
        "id": "COUEvBna-8T4"
      },
      "outputs": [],
      "source": [
        "# Import necessary libraries\n",
        "import pandas as pd\n",
        "import numpy as np\n",
        "from sklearn.model_selection import train_test_split\n",
        "from tensorflow.keras.models import Model, load_model\n",
        "from tensorflow.keras.layers import Input, Embedding, Flatten, Dense, Concatenate, Dropout, BatchNormalization\n",
        "from tensorflow.keras.optimizers import Adam\n",
        "from tensorflow.keras.losses import MeanSquaredError, Huber\n",
        "from tensorflow.keras.metrics import MeanAbsoluteError\n",
        "from tensorflow.keras.regularizers import l2\n",
        "import matplotlib.pyplot as plt\n"
      ]
    },
    {
      "cell_type": "markdown",
      "source": [
        "## Preprocess Million Song Subset\n",
        "\n",
        "- extract_h5_data: Extracts features like song_id, artist_name, title, release, and audio features: tempo, loudness, key, mode, duration, and year.\n",
        "\n",
        "- process_h5_directory: Processes all .h5 files to gather these features into a unified dataset\n",
        "\n",
        "- clean_and_normalize_data: Cleans missing values and normalizes numerical features like tempo, loudness, and duration to make the data suitable for deep learning, avoiding bias from feature scale differences.\n",
        "\n",
        "Workflow: Now we have essential features extracted into msd_preprocessed.csv for training a recommendation model that predicts user ratings based on both metadata and audio characteristics."
      ],
      "metadata": {
        "id": "6d06PKlsCu9b"
      }
    },
    {
      "cell_type": "code",
      "source": [
        "import h5py\n",
        "import os\n",
        "import pandas as pd\n",
        "from sklearn.preprocessing import MinMaxScaler\n",
        "\n",
        "import h5py\n",
        "\n",
        "def extract_h5_data(file_path):\n",
        "    \"\"\"\n",
        "    Extract relevant data from a single .h5 file, handling the absence of 'track_id'.\n",
        "    Use 'song_id' as a fallback identifier.\n",
        "    \"\"\"\n",
        "    try:\n",
        "        with h5py.File(file_path, 'r') as f:\n",
        "            data = {}\n",
        "\n",
        "            # Extract metadata/songs\n",
        "            if '/metadata/songs' in f:\n",
        "                metadata = f['/metadata/songs'][0]\n",
        "                # Use 'song_id' instead of 'track_id'\n",
        "                data['song_id'] = metadata['song_id'].decode('utf-8') if 'song_id' in metadata.dtype.names else None\n",
        "                data['artist_name'] = metadata['artist_name'].decode('utf-8') if 'artist_name' in metadata.dtype.names else None\n",
        "                data['title'] = metadata['title'].decode('utf-8') if 'title' in metadata.dtype.names else None\n",
        "                data['release'] = metadata['release'].decode('utf-8') if 'release' in metadata.dtype.names else None\n",
        "                data['song_hotttnesss'] = metadata['song_hotttnesss'] if 'song_hotttnesss' in metadata.dtype.names else None\n",
        "\n",
        "            # Extract analysis/songs\n",
        "            if '/analysis/songs' in f:\n",
        "                analysis = f['/analysis/songs'][0]\n",
        "                data['tempo'] = analysis['tempo'] if 'tempo' in analysis.dtype.names else None\n",
        "                data['loudness'] = analysis['loudness'] if 'loudness' in analysis.dtype.names else None\n",
        "                data['key'] = analysis['key'] if 'key' in analysis.dtype.names else None\n",
        "                data['mode'] = analysis['mode'] if 'mode' in analysis.dtype.names else None\n",
        "                data['duration'] = analysis['duration'] if 'duration' in analysis.dtype.names else None\n",
        "\n",
        "            # Extract musicbrainz/songs\n",
        "            if '/musicbrainz/songs' in f:\n",
        "                musicbrainz = f['/musicbrainz/songs'][0]\n",
        "                data['year'] = musicbrainz['year'] if 'year' in musicbrainz.dtype.names else None\n",
        "\n",
        "            return data\n",
        "\n",
        "    except Exception as e:\n",
        "        print(f\"Error processing {file_path}: {e}\")\n",
        "        return None\n",
        "\n",
        "\n",
        "\n",
        "def process_h5_directory(directory):\n",
        "    \"\"\"\n",
        "    Recursively process all .h5 files in the specified directory and extract data.\n",
        "    Skips files with errors and provides a DataFrame of extracted data.\n",
        "    \"\"\"\n",
        "    data = []\n",
        "    for root, _, files in os.walk(directory):\n",
        "        for file in files:\n",
        "            if file.endswith('.h5'):\n",
        "                file_path = os.path.join(root, file)\n",
        "                extracted_data = extract_h5_data(file_path)\n",
        "                if extracted_data is not None:\n",
        "                    data.append(extracted_data)\n",
        "    return pd.DataFrame(data)\n",
        "\n",
        "\n",
        "def clean_and_normalize_data(df):\n",
        "    \"\"\"\n",
        "    Clean and normalize the dataset.\n",
        "    - Handle missing values by filling with median.\n",
        "    - Normalize numerical features using MinMaxScaler.\n",
        "    \"\"\"\n",
        "    # Handle missing values\n",
        "    df = df.fillna(df.median(numeric_only=True))\n",
        "\n",
        "    # Normalize numerical features\n",
        "    numerical_features = ['tempo', 'loudness', 'duration', 'key', 'mode', 'year']\n",
        "    for feature in numerical_features:\n",
        "        if feature in df.columns:\n",
        "            scaler = MinMaxScaler()\n",
        "            df[feature] = scaler.fit_transform(df[[feature]])\n",
        "\n",
        "    return df\n",
        "\n",
        "\n",
        "# Process the .h5 files in the Million Song Subset directory\n",
        "directory_path = 'data/MillionSongSubset'\n",
        "msd_data = process_h5_directory(directory_path)\n",
        "\n",
        "# Clean and normalize the extracted data\n",
        "if not msd_data.empty:\n",
        "    cleaned_data = clean_and_normalize_data(msd_data)\n",
        "\n",
        "    # Save the cleaned data to a CSV file\n",
        "    cleaned_data.to_csv('msd_preprocessed.csv', index=False)\n",
        "    print(\"Preprocessed data saved to 'msd_preprocessed.csv'\")\n",
        "else:\n",
        "    print(\"No data extracted. Check the directory or file structure.\")\n"
      ],
      "metadata": {
        "colab": {
          "base_uri": "https://localhost:8080/"
        },
        "id": "Y3Ghe-T5Crh9",
        "outputId": "8c011788-017a-4fa0-cd6e-8d9029d7d8ef"
      },
      "execution_count": null,
      "outputs": [
        {
          "output_type": "stream",
          "name": "stdout",
          "text": [
            "No data extracted. Check the directory or file structure.\n"
          ]
        }
      ]
    },
    {
      "cell_type": "markdown",
      "source": [
        "## Simulating User Interaction Data\n",
        "Enhanced the preprocessed data with synthetic user interaction data simulated to mimic real-world user preferences.\n",
        "\n",
        "This involved assigning plausible ratings to songs based on their features (e.g., tempo, loudness, key, mode). By integrating these simulated interactions with the preprocessed MSD data, the model was trained to predict user preferences and generate personalized recommendations, even in the absence of real interaction data."
      ],
      "metadata": {
        "id": "Seq4xw1eD8eE"
      }
    },
    {
      "cell_type": "code",
      "source": [
        "import pandas as pd\n",
        "import numpy as np\n",
        "\n",
        "# Load your preprocessed dataset\n",
        "songs = pd.read_csv('msd_preprocessed.csv')\n",
        "\n",
        "# Generate synthetic users\n",
        "num_users = 100\n",
        "user_ids = [f'user_{i}' for i in range(1, num_users + 1)]\n",
        "\n",
        "# Simulate user preferences\n",
        "user_preferences = {\n",
        "    user: {\n",
        "        'preferred_tempo': np.random.uniform(0.1, 0.7),  # Wider range\n",
        "        'preferred_loudness': np.random.uniform(0.5, 1.0)  # Wider range\n",
        "    }\n",
        "    for user in user_ids\n",
        "}\n",
        "\n",
        "# Assign ratings\n",
        "ratings = []\n",
        "for user, prefs in user_preferences.items():\n",
        "    user_bias = np.random.uniform(-0.5, 0.5)  # User-specific bias\n",
        "    sampled_songs = songs.sample(50)  # Each user rates 50 songs\n",
        "    for _, song in sampled_songs.iterrows():\n",
        "        rating = 5 - 2 * abs(prefs['preferred_tempo'] - song['tempo']) - 2 * abs(prefs['preferred_loudness'] - song['loudness']) + user_bias\n",
        "        rating = max(1, min(5, rating + np.random.normal(0, 1)))  # Add more noise\n",
        "        ratings.append({'user_id': user, 'song_id': song['song_id'], 'rating': rating})\n",
        "\n",
        "# Create a DataFrame\n",
        "ratings_df = pd.DataFrame(ratings)\n",
        "ratings_df.to_csv('user_ratings_diversified.csv', index=False)\n"
      ],
      "metadata": {
        "id": "O-7UTu5SmJIY"
      },
      "execution_count": null,
      "outputs": []
    },
    {
      "cell_type": "markdown",
      "source": [
        "## Combining Preprocessed Data with Synthetic User Interaction Data"
      ],
      "metadata": {
        "id": "9FLaZIU_mK1r"
      }
    },
    {
      "cell_type": "code",
      "source": [
        "import pandas as pd\n",
        "\n",
        "# Load the preprocessed MSD dataset\n",
        "msd_preprocessed = pd.read_csv('msd_preprocessed.csv')\n",
        "\n",
        "# Load the synthetic ratings dataset\n",
        "synthetic_ratings = pd.read_csv('user_ratings_diversified.csv')\n",
        "\n",
        "# Join the datasets on 'song_id'\n",
        "# Ensure both datasets have 'song_id' column\n",
        "combined_data = pd.merge(synthetic_ratings, msd_preprocessed, on='song_id', how='inner')\n",
        "\n",
        "# Save the combined dataset to a new CSV file\n",
        "combined_data.to_csv('combined_msd_with_ratings.csv', index=False)\n",
        "\n",
        "print(\"Datasets successfully combined and saved to 'combined_msd_with_ratings.csv'\")\n"
      ],
      "metadata": {
        "colab": {
          "base_uri": "https://localhost:8080/"
        },
        "id": "euXcRPsID75n",
        "outputId": "ad06459f-e6be-41a4-ac78-070a27cc7a96"
      },
      "execution_count": null,
      "outputs": [
        {
          "output_type": "stream",
          "name": "stdout",
          "text": [
            "Datasets successfully combined and saved to 'combined_msd_with_ratings.csv'\n"
          ]
        }
      ]
    },
    {
      "cell_type": "markdown",
      "source": [
        "## Data Loading and More Preprocessing\n",
        "\n",
        "We load the interaction dataset and encode the user and song IDs for compatibility with the deep learning model.\n"
      ],
      "metadata": {
        "id": "qnS_fs9k_EHK"
      }
    },
    {
      "cell_type": "code",
      "source": [
        "# Load dataset\n",
        "data = pd.read_csv('combined_msd_with_ratings.csv')\n",
        "\n",
        "# Encode user_id and song_id as integers\n",
        "data['user_id'] = data['user_id'].astype('category').cat.codes\n",
        "data['song_id'] = data['song_id'].astype('category').cat.codes\n",
        "\n",
        "# Define input features and target\n",
        "X = data[['user_id', 'song_id', 'tempo', 'loudness', 'key', 'mode', 'duration']]\n",
        "y = data['rating']\n",
        "\n",
        "# Scale ratings to 0–1 for training\n",
        "y_scaled = (y - 1) / 4  # Scale 1–5 ratings to 0–1"
      ],
      "metadata": {
        "id": "HbPB4YUg_E2V"
      },
      "execution_count": null,
      "outputs": []
    },
    {
      "cell_type": "markdown",
      "source": [
        "## Data Splitting\n",
        "\n",
        "Split the data into training and testing sets for model evaluation.\n"
      ],
      "metadata": {
        "id": "2DHIYX_r_H53"
      }
    },
    {
      "cell_type": "code",
      "source": [
        "# Split into train and test sets\n",
        "X_train, X_test, y_train, y_test = train_test_split(X, y_scaled, test_size=0.2, random_state=42)\n"
      ],
      "metadata": {
        "id": "7GtaHD6M_GZh"
      },
      "execution_count": null,
      "outputs": []
    },
    {
      "cell_type": "markdown",
      "source": [
        "## Type of Model:\n",
        "\n",
        "### Neural Collaborative Filtering (NCF) model\n",
        "\n",
        "- Collaborative Filtering approach leverages the interaction between user ratings and songs to make predictions about a user's prefernece for songs they haven't interacted with yet\n",
        "- Learns complex patterns between users and items\n",
        "- Incorporates audio features (tempo, loudness, key, etc) to enable more naunced recommendations based on both user preferences and song chracteristics\n",
        "\n",
        "\n"
      ],
      "metadata": {
        "id": "sJ_mh2eao-zm"
      }
    },
    {
      "cell_type": "markdown",
      "source": [
        "## Why this model?\n",
        "Ideal for music recommendation\n",
        "- Combines collaborative filtering (user-song interaction) and content-based filtering (song features)\n",
        "\n"
      ],
      "metadata": {
        "id": "iG7_yK9upwnt"
      }
    },
    {
      "cell_type": "markdown",
      "source": [
        "## Model Architecture"
      ],
      "metadata": {
        "id": "ho_N7jXBq31_"
      }
    },
    {
      "cell_type": "markdown",
      "source": [
        "## 1. Prediction Phase\n",
        "\n",
        "Goal: The model learns to predict user-song ratings based on user, song, and audio features.\n",
        "\n",
        "Inputs:\n",
        "\n",
        "- user_id (mapped as user_idx).\n",
        "- song_id (mapped as song_idx).\n",
        "- audio features (e.g., tempo, loudness, key, mode, duration).\n",
        "\n",
        "Output: The model predicts a rating (predicted_rating) for each user-song pair during training.\n",
        "\n",
        "\n",
        "\n"
      ],
      "metadata": {
        "id": "YmTalK1q_JvV"
      }
    },
    {
      "cell_type": "code",
      "source": [
        "# Number of unique users and songs\n",
        "num_users = data['user_id'].nunique()\n",
        "num_songs = data['song_id'].nunique()\n",
        "\n",
        "# Dynamic embedding size\n",
        "embedding_size = int((num_users + num_songs) ** 0.25)\n",
        "\n",
        "# Define input layers\n",
        "user_input = Input(shape=(1,), name='user_input')\n",
        "song_input = Input(shape=(1,), name='song_input')\n",
        "audio_input = Input(shape=(5,), name='audio_input')  # 5 audio features: tempo, loudness, key, mode, duration\n",
        "\n",
        "# Embedding layers for users and songs with L2 regularization\n",
        "user_embedding = Embedding(num_users, embedding_size, name='user_embedding',\n",
        "                           embeddings_regularizer=l2(0.01))(user_input)\n",
        "song_embedding = Embedding(num_songs, embedding_size, name='song_embedding',\n",
        "                           embeddings_regularizer=l2(0.01))(song_input)\n",
        "\n",
        "# Flatten embeddings\n",
        "user_vec = Flatten(name='user_flatten')(user_embedding)\n",
        "song_vec = Flatten(name='song_flatten')(song_embedding)\n",
        "\n",
        "# Concatenate embeddings and audio features\n",
        "concat = Concatenate()([user_vec, song_vec, audio_input])\n",
        "\n",
        "# Fully connected layers\n",
        "fc1 = Dense(128, activation='relu', kernel_regularizer=l2(0.01))(concat)\n",
        "fc1 = BatchNormalization()(fc1)\n",
        "dropout1 = Dropout(0.5)(fc1)\n",
        "\n",
        "fc2 = Dense(64, activation='relu', kernel_regularizer=l2(0.01))(dropout1)\n",
        "fc2 = BatchNormalization()(fc2)\n",
        "dropout2 = Dropout(0.5)(fc2)\n",
        "\n",
        "# Output layer with sigmoid activation\n",
        "output = Dense(1, activation='sigmoid', name='rating_output')(dropout2)\n",
        "scaled_output = output * 4 + 1  # Scale sigmoid output to 1-5\n",
        "\n",
        "# Define the model\n",
        "model = Model(inputs=[user_input, song_input, audio_input], outputs=output)\n",
        "\n",
        "# Compile the model with Mean Squared Error loss and Mean Absolute Error metric\n",
        "model.compile(optimizer=Adam(learning_rate=0.001),\n",
        "              loss=MeanSquaredError(),\n",
        "              metrics=[MeanAbsoluteError()])\n",
        "\n",
        "model.summary()"
      ],
      "metadata": {
        "colab": {
          "base_uri": "https://localhost:8080/",
          "height": 748
        },
        "id": "6tOzSJMW_K33",
        "outputId": "9acfb87d-4d39-4024-99f2-edec025d6e6a"
      },
      "execution_count": null,
      "outputs": [
        {
          "output_type": "display_data",
          "data": {
            "text/plain": [
              "\u001b[1mModel: \"functional_17\"\u001b[0m\n"
            ],
            "text/html": [
              "<pre style=\"white-space:pre;overflow-x:auto;line-height:normal;font-family:Menlo,'DejaVu Sans Mono',consolas,'Courier New',monospace\"><span style=\"font-weight: bold\">Model: \"functional_17\"</span>\n",
              "</pre>\n"
            ]
          },
          "metadata": {}
        },
        {
          "output_type": "display_data",
          "data": {
            "text/plain": [
              "┏━━━━━━━━━━━━━━━━━━━━━━━━━━━┳━━━━━━━━━━━━━━━━━━━━━━━━┳━━━━━━━━━━━━━━━━┳━━━━━━━━━━━━━━━━━━━━━━━━┓\n",
              "┃\u001b[1m \u001b[0m\u001b[1mLayer (type)             \u001b[0m\u001b[1m \u001b[0m┃\u001b[1m \u001b[0m\u001b[1mOutput Shape          \u001b[0m\u001b[1m \u001b[0m┃\u001b[1m \u001b[0m\u001b[1m       Param #\u001b[0m\u001b[1m \u001b[0m┃\u001b[1m \u001b[0m\u001b[1mConnected to          \u001b[0m\u001b[1m \u001b[0m┃\n",
              "┡━━━━━━━━━━━━━━━━━━━━━━━━━━━╇━━━━━━━━━━━━━━━━━━━━━━━━╇━━━━━━━━━━━━━━━━╇━━━━━━━━━━━━━━━━━━━━━━━━┩\n",
              "│ user_input (\u001b[38;5;33mInputLayer\u001b[0m)   │ (\u001b[38;5;45mNone\u001b[0m, \u001b[38;5;34m1\u001b[0m)              │              \u001b[38;5;34m0\u001b[0m │ -                      │\n",
              "├───────────────────────────┼────────────────────────┼────────────────┼────────────────────────┤\n",
              "│ song_input (\u001b[38;5;33mInputLayer\u001b[0m)   │ (\u001b[38;5;45mNone\u001b[0m, \u001b[38;5;34m1\u001b[0m)              │              \u001b[38;5;34m0\u001b[0m │ -                      │\n",
              "├───────────────────────────┼────────────────────────┼────────────────┼────────────────────────┤\n",
              "│ user_embedding            │ (\u001b[38;5;45mNone\u001b[0m, \u001b[38;5;34m1\u001b[0m, \u001b[38;5;34m7\u001b[0m)           │            \u001b[38;5;34m700\u001b[0m │ user_input[\u001b[38;5;34m0\u001b[0m][\u001b[38;5;34m0\u001b[0m]       │\n",
              "│ (\u001b[38;5;33mEmbedding\u001b[0m)               │                        │                │                        │\n",
              "├───────────────────────────┼────────────────────────┼────────────────┼────────────────────────┤\n",
              "│ song_embedding            │ (\u001b[38;5;45mNone\u001b[0m, \u001b[38;5;34m1\u001b[0m, \u001b[38;5;34m7\u001b[0m)           │         \u001b[38;5;34m27,559\u001b[0m │ song_input[\u001b[38;5;34m0\u001b[0m][\u001b[38;5;34m0\u001b[0m]       │\n",
              "│ (\u001b[38;5;33mEmbedding\u001b[0m)               │                        │                │                        │\n",
              "├───────────────────────────┼────────────────────────┼────────────────┼────────────────────────┤\n",
              "│ user_flatten (\u001b[38;5;33mFlatten\u001b[0m)    │ (\u001b[38;5;45mNone\u001b[0m, \u001b[38;5;34m7\u001b[0m)              │              \u001b[38;5;34m0\u001b[0m │ user_embedding[\u001b[38;5;34m0\u001b[0m][\u001b[38;5;34m0\u001b[0m]   │\n",
              "├───────────────────────────┼────────────────────────┼────────────────┼────────────────────────┤\n",
              "│ song_flatten (\u001b[38;5;33mFlatten\u001b[0m)    │ (\u001b[38;5;45mNone\u001b[0m, \u001b[38;5;34m7\u001b[0m)              │              \u001b[38;5;34m0\u001b[0m │ song_embedding[\u001b[38;5;34m0\u001b[0m][\u001b[38;5;34m0\u001b[0m]   │\n",
              "├───────────────────────────┼────────────────────────┼────────────────┼────────────────────────┤\n",
              "│ audio_input (\u001b[38;5;33mInputLayer\u001b[0m)  │ (\u001b[38;5;45mNone\u001b[0m, \u001b[38;5;34m5\u001b[0m)              │              \u001b[38;5;34m0\u001b[0m │ -                      │\n",
              "├───────────────────────────┼────────────────────────┼────────────────┼────────────────────────┤\n",
              "│ concatenate_17            │ (\u001b[38;5;45mNone\u001b[0m, \u001b[38;5;34m19\u001b[0m)             │              \u001b[38;5;34m0\u001b[0m │ user_flatten[\u001b[38;5;34m0\u001b[0m][\u001b[38;5;34m0\u001b[0m],    │\n",
              "│ (\u001b[38;5;33mConcatenate\u001b[0m)             │                        │                │ song_flatten[\u001b[38;5;34m0\u001b[0m][\u001b[38;5;34m0\u001b[0m],    │\n",
              "│                           │                        │                │ audio_input[\u001b[38;5;34m0\u001b[0m][\u001b[38;5;34m0\u001b[0m]      │\n",
              "├───────────────────────────┼────────────────────────┼────────────────┼────────────────────────┤\n",
              "│ dense_34 (\u001b[38;5;33mDense\u001b[0m)          │ (\u001b[38;5;45mNone\u001b[0m, \u001b[38;5;34m128\u001b[0m)            │          \u001b[38;5;34m2,560\u001b[0m │ concatenate_17[\u001b[38;5;34m0\u001b[0m][\u001b[38;5;34m0\u001b[0m]   │\n",
              "├───────────────────────────┼────────────────────────┼────────────────┼────────────────────────┤\n",
              "│ batch_normalization_34    │ (\u001b[38;5;45mNone\u001b[0m, \u001b[38;5;34m128\u001b[0m)            │            \u001b[38;5;34m512\u001b[0m │ dense_34[\u001b[38;5;34m0\u001b[0m][\u001b[38;5;34m0\u001b[0m]         │\n",
              "│ (\u001b[38;5;33mBatchNormalization\u001b[0m)      │                        │                │                        │\n",
              "├───────────────────────────┼────────────────────────┼────────────────┼────────────────────────┤\n",
              "│ dropout_34 (\u001b[38;5;33mDropout\u001b[0m)      │ (\u001b[38;5;45mNone\u001b[0m, \u001b[38;5;34m128\u001b[0m)            │              \u001b[38;5;34m0\u001b[0m │ batch_normalization_3… │\n",
              "├───────────────────────────┼────────────────────────┼────────────────┼────────────────────────┤\n",
              "│ dense_35 (\u001b[38;5;33mDense\u001b[0m)          │ (\u001b[38;5;45mNone\u001b[0m, \u001b[38;5;34m64\u001b[0m)             │          \u001b[38;5;34m8,256\u001b[0m │ dropout_34[\u001b[38;5;34m0\u001b[0m][\u001b[38;5;34m0\u001b[0m]       │\n",
              "├───────────────────────────┼────────────────────────┼────────────────┼────────────────────────┤\n",
              "│ batch_normalization_35    │ (\u001b[38;5;45mNone\u001b[0m, \u001b[38;5;34m64\u001b[0m)             │            \u001b[38;5;34m256\u001b[0m │ dense_35[\u001b[38;5;34m0\u001b[0m][\u001b[38;5;34m0\u001b[0m]         │\n",
              "│ (\u001b[38;5;33mBatchNormalization\u001b[0m)      │                        │                │                        │\n",
              "├───────────────────────────┼────────────────────────┼────────────────┼────────────────────────┤\n",
              "│ dropout_35 (\u001b[38;5;33mDropout\u001b[0m)      │ (\u001b[38;5;45mNone\u001b[0m, \u001b[38;5;34m64\u001b[0m)             │              \u001b[38;5;34m0\u001b[0m │ batch_normalization_3… │\n",
              "├───────────────────────────┼────────────────────────┼────────────────┼────────────────────────┤\n",
              "│ rating_output (\u001b[38;5;33mDense\u001b[0m)     │ (\u001b[38;5;45mNone\u001b[0m, \u001b[38;5;34m1\u001b[0m)              │             \u001b[38;5;34m65\u001b[0m │ dropout_35[\u001b[38;5;34m0\u001b[0m][\u001b[38;5;34m0\u001b[0m]       │\n",
              "└───────────────────────────┴────────────────────────┴────────────────┴────────────────────────┘\n"
            ],
            "text/html": [
              "<pre style=\"white-space:pre;overflow-x:auto;line-height:normal;font-family:Menlo,'DejaVu Sans Mono',consolas,'Courier New',monospace\">┏━━━━━━━━━━━━━━━━━━━━━━━━━━━┳━━━━━━━━━━━━━━━━━━━━━━━━┳━━━━━━━━━━━━━━━━┳━━━━━━━━━━━━━━━━━━━━━━━━┓\n",
              "┃<span style=\"font-weight: bold\"> Layer (type)              </span>┃<span style=\"font-weight: bold\"> Output Shape           </span>┃<span style=\"font-weight: bold\">        Param # </span>┃<span style=\"font-weight: bold\"> Connected to           </span>┃\n",
              "┡━━━━━━━━━━━━━━━━━━━━━━━━━━━╇━━━━━━━━━━━━━━━━━━━━━━━━╇━━━━━━━━━━━━━━━━╇━━━━━━━━━━━━━━━━━━━━━━━━┩\n",
              "│ user_input (<span style=\"color: #0087ff; text-decoration-color: #0087ff\">InputLayer</span>)   │ (<span style=\"color: #00d7ff; text-decoration-color: #00d7ff\">None</span>, <span style=\"color: #00af00; text-decoration-color: #00af00\">1</span>)              │              <span style=\"color: #00af00; text-decoration-color: #00af00\">0</span> │ -                      │\n",
              "├───────────────────────────┼────────────────────────┼────────────────┼────────────────────────┤\n",
              "│ song_input (<span style=\"color: #0087ff; text-decoration-color: #0087ff\">InputLayer</span>)   │ (<span style=\"color: #00d7ff; text-decoration-color: #00d7ff\">None</span>, <span style=\"color: #00af00; text-decoration-color: #00af00\">1</span>)              │              <span style=\"color: #00af00; text-decoration-color: #00af00\">0</span> │ -                      │\n",
              "├───────────────────────────┼────────────────────────┼────────────────┼────────────────────────┤\n",
              "│ user_embedding            │ (<span style=\"color: #00d7ff; text-decoration-color: #00d7ff\">None</span>, <span style=\"color: #00af00; text-decoration-color: #00af00\">1</span>, <span style=\"color: #00af00; text-decoration-color: #00af00\">7</span>)           │            <span style=\"color: #00af00; text-decoration-color: #00af00\">700</span> │ user_input[<span style=\"color: #00af00; text-decoration-color: #00af00\">0</span>][<span style=\"color: #00af00; text-decoration-color: #00af00\">0</span>]       │\n",
              "│ (<span style=\"color: #0087ff; text-decoration-color: #0087ff\">Embedding</span>)               │                        │                │                        │\n",
              "├───────────────────────────┼────────────────────────┼────────────────┼────────────────────────┤\n",
              "│ song_embedding            │ (<span style=\"color: #00d7ff; text-decoration-color: #00d7ff\">None</span>, <span style=\"color: #00af00; text-decoration-color: #00af00\">1</span>, <span style=\"color: #00af00; text-decoration-color: #00af00\">7</span>)           │         <span style=\"color: #00af00; text-decoration-color: #00af00\">27,559</span> │ song_input[<span style=\"color: #00af00; text-decoration-color: #00af00\">0</span>][<span style=\"color: #00af00; text-decoration-color: #00af00\">0</span>]       │\n",
              "│ (<span style=\"color: #0087ff; text-decoration-color: #0087ff\">Embedding</span>)               │                        │                │                        │\n",
              "├───────────────────────────┼────────────────────────┼────────────────┼────────────────────────┤\n",
              "│ user_flatten (<span style=\"color: #0087ff; text-decoration-color: #0087ff\">Flatten</span>)    │ (<span style=\"color: #00d7ff; text-decoration-color: #00d7ff\">None</span>, <span style=\"color: #00af00; text-decoration-color: #00af00\">7</span>)              │              <span style=\"color: #00af00; text-decoration-color: #00af00\">0</span> │ user_embedding[<span style=\"color: #00af00; text-decoration-color: #00af00\">0</span>][<span style=\"color: #00af00; text-decoration-color: #00af00\">0</span>]   │\n",
              "├───────────────────────────┼────────────────────────┼────────────────┼────────────────────────┤\n",
              "│ song_flatten (<span style=\"color: #0087ff; text-decoration-color: #0087ff\">Flatten</span>)    │ (<span style=\"color: #00d7ff; text-decoration-color: #00d7ff\">None</span>, <span style=\"color: #00af00; text-decoration-color: #00af00\">7</span>)              │              <span style=\"color: #00af00; text-decoration-color: #00af00\">0</span> │ song_embedding[<span style=\"color: #00af00; text-decoration-color: #00af00\">0</span>][<span style=\"color: #00af00; text-decoration-color: #00af00\">0</span>]   │\n",
              "├───────────────────────────┼────────────────────────┼────────────────┼────────────────────────┤\n",
              "│ audio_input (<span style=\"color: #0087ff; text-decoration-color: #0087ff\">InputLayer</span>)  │ (<span style=\"color: #00d7ff; text-decoration-color: #00d7ff\">None</span>, <span style=\"color: #00af00; text-decoration-color: #00af00\">5</span>)              │              <span style=\"color: #00af00; text-decoration-color: #00af00\">0</span> │ -                      │\n",
              "├───────────────────────────┼────────────────────────┼────────────────┼────────────────────────┤\n",
              "│ concatenate_17            │ (<span style=\"color: #00d7ff; text-decoration-color: #00d7ff\">None</span>, <span style=\"color: #00af00; text-decoration-color: #00af00\">19</span>)             │              <span style=\"color: #00af00; text-decoration-color: #00af00\">0</span> │ user_flatten[<span style=\"color: #00af00; text-decoration-color: #00af00\">0</span>][<span style=\"color: #00af00; text-decoration-color: #00af00\">0</span>],    │\n",
              "│ (<span style=\"color: #0087ff; text-decoration-color: #0087ff\">Concatenate</span>)             │                        │                │ song_flatten[<span style=\"color: #00af00; text-decoration-color: #00af00\">0</span>][<span style=\"color: #00af00; text-decoration-color: #00af00\">0</span>],    │\n",
              "│                           │                        │                │ audio_input[<span style=\"color: #00af00; text-decoration-color: #00af00\">0</span>][<span style=\"color: #00af00; text-decoration-color: #00af00\">0</span>]      │\n",
              "├───────────────────────────┼────────────────────────┼────────────────┼────────────────────────┤\n",
              "│ dense_34 (<span style=\"color: #0087ff; text-decoration-color: #0087ff\">Dense</span>)          │ (<span style=\"color: #00d7ff; text-decoration-color: #00d7ff\">None</span>, <span style=\"color: #00af00; text-decoration-color: #00af00\">128</span>)            │          <span style=\"color: #00af00; text-decoration-color: #00af00\">2,560</span> │ concatenate_17[<span style=\"color: #00af00; text-decoration-color: #00af00\">0</span>][<span style=\"color: #00af00; text-decoration-color: #00af00\">0</span>]   │\n",
              "├───────────────────────────┼────────────────────────┼────────────────┼────────────────────────┤\n",
              "│ batch_normalization_34    │ (<span style=\"color: #00d7ff; text-decoration-color: #00d7ff\">None</span>, <span style=\"color: #00af00; text-decoration-color: #00af00\">128</span>)            │            <span style=\"color: #00af00; text-decoration-color: #00af00\">512</span> │ dense_34[<span style=\"color: #00af00; text-decoration-color: #00af00\">0</span>][<span style=\"color: #00af00; text-decoration-color: #00af00\">0</span>]         │\n",
              "│ (<span style=\"color: #0087ff; text-decoration-color: #0087ff\">BatchNormalization</span>)      │                        │                │                        │\n",
              "├───────────────────────────┼────────────────────────┼────────────────┼────────────────────────┤\n",
              "│ dropout_34 (<span style=\"color: #0087ff; text-decoration-color: #0087ff\">Dropout</span>)      │ (<span style=\"color: #00d7ff; text-decoration-color: #00d7ff\">None</span>, <span style=\"color: #00af00; text-decoration-color: #00af00\">128</span>)            │              <span style=\"color: #00af00; text-decoration-color: #00af00\">0</span> │ batch_normalization_3… │\n",
              "├───────────────────────────┼────────────────────────┼────────────────┼────────────────────────┤\n",
              "│ dense_35 (<span style=\"color: #0087ff; text-decoration-color: #0087ff\">Dense</span>)          │ (<span style=\"color: #00d7ff; text-decoration-color: #00d7ff\">None</span>, <span style=\"color: #00af00; text-decoration-color: #00af00\">64</span>)             │          <span style=\"color: #00af00; text-decoration-color: #00af00\">8,256</span> │ dropout_34[<span style=\"color: #00af00; text-decoration-color: #00af00\">0</span>][<span style=\"color: #00af00; text-decoration-color: #00af00\">0</span>]       │\n",
              "├───────────────────────────┼────────────────────────┼────────────────┼────────────────────────┤\n",
              "│ batch_normalization_35    │ (<span style=\"color: #00d7ff; text-decoration-color: #00d7ff\">None</span>, <span style=\"color: #00af00; text-decoration-color: #00af00\">64</span>)             │            <span style=\"color: #00af00; text-decoration-color: #00af00\">256</span> │ dense_35[<span style=\"color: #00af00; text-decoration-color: #00af00\">0</span>][<span style=\"color: #00af00; text-decoration-color: #00af00\">0</span>]         │\n",
              "│ (<span style=\"color: #0087ff; text-decoration-color: #0087ff\">BatchNormalization</span>)      │                        │                │                        │\n",
              "├───────────────────────────┼────────────────────────┼────────────────┼────────────────────────┤\n",
              "│ dropout_35 (<span style=\"color: #0087ff; text-decoration-color: #0087ff\">Dropout</span>)      │ (<span style=\"color: #00d7ff; text-decoration-color: #00d7ff\">None</span>, <span style=\"color: #00af00; text-decoration-color: #00af00\">64</span>)             │              <span style=\"color: #00af00; text-decoration-color: #00af00\">0</span> │ batch_normalization_3… │\n",
              "├───────────────────────────┼────────────────────────┼────────────────┼────────────────────────┤\n",
              "│ rating_output (<span style=\"color: #0087ff; text-decoration-color: #0087ff\">Dense</span>)     │ (<span style=\"color: #00d7ff; text-decoration-color: #00d7ff\">None</span>, <span style=\"color: #00af00; text-decoration-color: #00af00\">1</span>)              │             <span style=\"color: #00af00; text-decoration-color: #00af00\">65</span> │ dropout_35[<span style=\"color: #00af00; text-decoration-color: #00af00\">0</span>][<span style=\"color: #00af00; text-decoration-color: #00af00\">0</span>]       │\n",
              "└───────────────────────────┴────────────────────────┴────────────────┴────────────────────────┘\n",
              "</pre>\n"
            ]
          },
          "metadata": {}
        },
        {
          "output_type": "display_data",
          "data": {
            "text/plain": [
              "\u001b[1m Total params: \u001b[0m\u001b[38;5;34m39,908\u001b[0m (155.89 KB)\n"
            ],
            "text/html": [
              "<pre style=\"white-space:pre;overflow-x:auto;line-height:normal;font-family:Menlo,'DejaVu Sans Mono',consolas,'Courier New',monospace\"><span style=\"font-weight: bold\"> Total params: </span><span style=\"color: #00af00; text-decoration-color: #00af00\">39,908</span> (155.89 KB)\n",
              "</pre>\n"
            ]
          },
          "metadata": {}
        },
        {
          "output_type": "display_data",
          "data": {
            "text/plain": [
              "\u001b[1m Trainable params: \u001b[0m\u001b[38;5;34m39,524\u001b[0m (154.39 KB)\n"
            ],
            "text/html": [
              "<pre style=\"white-space:pre;overflow-x:auto;line-height:normal;font-family:Menlo,'DejaVu Sans Mono',consolas,'Courier New',monospace\"><span style=\"font-weight: bold\"> Trainable params: </span><span style=\"color: #00af00; text-decoration-color: #00af00\">39,524</span> (154.39 KB)\n",
              "</pre>\n"
            ]
          },
          "metadata": {}
        },
        {
          "output_type": "display_data",
          "data": {
            "text/plain": [
              "\u001b[1m Non-trainable params: \u001b[0m\u001b[38;5;34m384\u001b[0m (1.50 KB)\n"
            ],
            "text/html": [
              "<pre style=\"white-space:pre;overflow-x:auto;line-height:normal;font-family:Menlo,'DejaVu Sans Mono',consolas,'Courier New',monospace\"><span style=\"font-weight: bold\"> Non-trainable params: </span><span style=\"color: #00af00; text-decoration-color: #00af00\">384</span> (1.50 KB)\n",
              "</pre>\n"
            ]
          },
          "metadata": {}
        }
      ]
    },
    {
      "cell_type": "markdown",
      "source": [
        "**Input Layers:** user IDs, song IDs, and audio features (tempo, loudness, key, mode, duration)\n",
        "\n",
        "**Embedding Layers:** Maps user and song IDs to dense vectors of size embedding_size - represents relationships between users and songs\n",
        "\n",
        "**Flatten Layers:** Converts the user and song embeddings into 1D vectors for further processing and concatenation.\n",
        "\n",
        "**Concatenation Layer:** Combines user embeddings, song embeddings, and audio features into a unified vector for processing relationships and preferences holistically.\n",
        "\n",
        "**First Dense Layer:** 128 neurons with ReLU activation to learn complex patterns from the combined input features.\n",
        "\n",
        "**Second Dense Layer:** 64 neurons with ReLU activation for further refinement of patterns learned in the first layer.\n",
        "\n",
        "**Dropout:** Drops 50% of neurons - prevent overfitting and improve generalization\n",
        "\n",
        "**Output Layer:** Predict user rating as a continuous value.\n",
        "\n",
        "**Optimizer:** Adam optimizer for adaptive learning rates and robustness to noisy data.\n",
        "\n",
        "**Loss Function:** Mean Squared Error (MSE) for measuring the difference between predicted and actual ratings in regression tasks.\n",
        "\n",
        "**Metrics:** Mean Absolute Error (MAE) for an intuitive measure of average prediction error."
      ],
      "metadata": {
        "id": "QYeBYxgYdU2-"
      }
    },
    {
      "cell_type": "markdown",
      "source": [
        "## Hyperparameter Tuning\n",
        "Problem: Overconfidence in reccomendation scores\n",
        "\n",
        "Applied regulatization:\n",
        "- increased dropout rates from 30% to 50%: prevent overfitting, prevents model from memorizing specific features, better generalization to new data\n",
        "- added weight decay to optimizer: adds penalty to loss function based on size of model's weights to discourage excessively large weights during training, prevent overrating songs as \"very good\""
      ],
      "metadata": {
        "id": "grrSSXxM5N1f"
      }
    },
    {
      "cell_type": "markdown",
      "source": [
        "## Model Training\n",
        "\n",
        "Goal: The model adjusts its weights to minimize the difference between predicted_rating and actual_rating using the Mean Squared Error (MSE) loss function.\n"
      ],
      "metadata": {
        "id": "Vuwpyv-3_Mly"
      }
    },
    {
      "cell_type": "code",
      "source": [
        "# Separate inputs for training\n",
        "train_user = X_train['user_id']\n",
        "train_song = X_train['song_id']\n",
        "train_audio = X_train[['tempo', 'loudness', 'key', 'mode', 'duration']]\n",
        "\n",
        "# Separate inputs for testing\n",
        "test_user = X_test['user_id']\n",
        "test_song = X_test['song_id']\n",
        "test_audio = X_test[['tempo', 'loudness', 'key', 'mode', 'duration']]\n",
        "\n",
        "# Train the model\n",
        "history = model.fit(\n",
        "    [train_user, train_song, train_audio],\n",
        "    y_train,  # Scaled ratings (0–1)\n",
        "    validation_data=([test_user, test_song, test_audio], y_test),\n",
        "    batch_size=64,\n",
        "    epochs=20,\n",
        "    verbose=1\n",
        ")\n",
        "\n",
        "# Save the trained model\n",
        "model.save('song_recommendation_model_fixed.keras')\n",
        "print(\"Model saved to song_recommendation_model_fixed.keras\")\n"
      ],
      "metadata": {
        "colab": {
          "base_uri": "https://localhost:8080/"
        },
        "id": "luJhFbb6_N34",
        "outputId": "4389a6eb-75bf-4a43-b019-493a7c8d94ea"
      },
      "execution_count": null,
      "outputs": [
        {
          "output_type": "stream",
          "name": "stdout",
          "text": [
            "Epoch 1/20\n",
            "\u001b[1m63/63\u001b[0m \u001b[32m━━━━━━━━━━━━━━━━━━━━\u001b[0m\u001b[37m\u001b[0m \u001b[1m3s\u001b[0m 9ms/step - loss: 1.1827 - mean_absolute_error: 0.3470 - val_loss: 0.5201 - val_mean_absolute_error: 0.2015\n",
            "Epoch 2/20\n",
            "\u001b[1m63/63\u001b[0m \u001b[32m━━━━━━━━━━━━━━━━━━━━\u001b[0m\u001b[37m\u001b[0m \u001b[1m0s\u001b[0m 4ms/step - loss: 0.4639 - mean_absolute_error: 0.2787 - val_loss: 0.2264 - val_mean_absolute_error: 0.1727\n",
            "Epoch 3/20\n",
            "\u001b[1m63/63\u001b[0m \u001b[32m━━━━━━━━━━━━━━━━━━━━\u001b[0m\u001b[37m\u001b[0m \u001b[1m0s\u001b[0m 5ms/step - loss: 0.2115 - mean_absolute_error: 0.2300 - val_loss: 0.1132 - val_mean_absolute_error: 0.1668\n",
            "Epoch 4/20\n",
            "\u001b[1m63/63\u001b[0m \u001b[32m━━━━━━━━━━━━━━━━━━━━\u001b[0m\u001b[37m\u001b[0m \u001b[1m1s\u001b[0m 4ms/step - loss: 0.1151 - mean_absolute_error: 0.2144 - val_loss: 0.0681 - val_mean_absolute_error: 0.1651\n",
            "Epoch 5/20\n",
            "\u001b[1m63/63\u001b[0m \u001b[32m━━━━━━━━━━━━━━━━━━━━\u001b[0m\u001b[37m\u001b[0m \u001b[1m0s\u001b[0m 5ms/step - loss: 0.0728 - mean_absolute_error: 0.2018 - val_loss: 0.0480 - val_mean_absolute_error: 0.1651\n",
            "Epoch 6/20\n",
            "\u001b[1m63/63\u001b[0m \u001b[32m━━━━━━━━━━━━━━━━━━━━\u001b[0m\u001b[37m\u001b[0m \u001b[1m0s\u001b[0m 5ms/step - loss: 0.0536 - mean_absolute_error: 0.1923 - val_loss: 0.0377 - val_mean_absolute_error: 0.1653\n",
            "Epoch 7/20\n",
            "\u001b[1m63/63\u001b[0m \u001b[32m━━━━━━━━━━━━━━━━━━━━\u001b[0m\u001b[37m\u001b[0m \u001b[1m0s\u001b[0m 4ms/step - loss: 0.0408 - mean_absolute_error: 0.1814 - val_loss: 0.0316 - val_mean_absolute_error: 0.1657\n",
            "Epoch 8/20\n",
            "\u001b[1m63/63\u001b[0m \u001b[32m━━━━━━━━━━━━━━━━━━━━\u001b[0m\u001b[37m\u001b[0m \u001b[1m0s\u001b[0m 7ms/step - loss: 0.0351 - mean_absolute_error: 0.1801 - val_loss: 0.0278 - val_mean_absolute_error: 0.1658\n",
            "Epoch 9/20\n",
            "\u001b[1m63/63\u001b[0m \u001b[32m━━━━━━━━━━━━━━━━━━━━\u001b[0m\u001b[37m\u001b[0m \u001b[1m0s\u001b[0m 7ms/step - loss: 0.0292 - mean_absolute_error: 0.1740 - val_loss: 0.0248 - val_mean_absolute_error: 0.1664\n",
            "Epoch 10/20\n",
            "\u001b[1m63/63\u001b[0m \u001b[32m━━━━━━━━━━━━━━━━━━━━\u001b[0m\u001b[37m\u001b[0m \u001b[1m0s\u001b[0m 6ms/step - loss: 0.0249 - mean_absolute_error: 0.1700 - val_loss: 0.0229 - val_mean_absolute_error: 0.1687\n",
            "Epoch 11/20\n",
            "\u001b[1m63/63\u001b[0m \u001b[32m━━━━━━━━━━━━━━━━━━━━\u001b[0m\u001b[37m\u001b[0m \u001b[1m1s\u001b[0m 7ms/step - loss: 0.0231 - mean_absolute_error: 0.1712 - val_loss: 0.0220 - val_mean_absolute_error: 0.1691\n",
            "Epoch 12/20\n",
            "\u001b[1m63/63\u001b[0m \u001b[32m━━━━━━━━━━━━━━━━━━━━\u001b[0m\u001b[37m\u001b[0m \u001b[1m1s\u001b[0m 7ms/step - loss: 0.0229 - mean_absolute_error: 0.1724 - val_loss: 0.0214 - val_mean_absolute_error: 0.1689\n",
            "Epoch 13/20\n",
            "\u001b[1m63/63\u001b[0m \u001b[32m━━━━━━━━━━━━━━━━━━━━\u001b[0m\u001b[37m\u001b[0m \u001b[1m1s\u001b[0m 7ms/step - loss: 0.0223 - mean_absolute_error: 0.1710 - val_loss: 0.0212 - val_mean_absolute_error: 0.1690\n",
            "Epoch 14/20\n",
            "\u001b[1m63/63\u001b[0m \u001b[32m━━━━━━━━━━━━━━━━━━━━\u001b[0m\u001b[37m\u001b[0m \u001b[1m1s\u001b[0m 8ms/step - loss: 0.0213 - mean_absolute_error: 0.1706 - val_loss: 0.0210 - val_mean_absolute_error: 0.1695\n",
            "Epoch 15/20\n",
            "\u001b[1m63/63\u001b[0m \u001b[32m━━━━━━━━━━━━━━━━━━━━\u001b[0m\u001b[37m\u001b[0m \u001b[1m1s\u001b[0m 7ms/step - loss: 0.0216 - mean_absolute_error: 0.1727 - val_loss: 0.0209 - val_mean_absolute_error: 0.1677\n",
            "Epoch 16/20\n",
            "\u001b[1m63/63\u001b[0m \u001b[32m━━━━━━━━━━━━━━━━━━━━\u001b[0m\u001b[37m\u001b[0m \u001b[1m1s\u001b[0m 7ms/step - loss: 0.0208 - mean_absolute_error: 0.1699 - val_loss: 0.0212 - val_mean_absolute_error: 0.1724\n",
            "Epoch 17/20\n",
            "\u001b[1m63/63\u001b[0m \u001b[32m━━━━━━━━━━━━━━━━━━━━\u001b[0m\u001b[37m\u001b[0m \u001b[1m0s\u001b[0m 4ms/step - loss: 0.0229 - mean_absolute_error: 0.1784 - val_loss: 0.0208 - val_mean_absolute_error: 0.1690\n",
            "Epoch 18/20\n",
            "\u001b[1m63/63\u001b[0m \u001b[32m━━━━━━━━━━━━━━━━━━━━\u001b[0m\u001b[37m\u001b[0m \u001b[1m0s\u001b[0m 5ms/step - loss: 0.0216 - mean_absolute_error: 0.1722 - val_loss: 0.0208 - val_mean_absolute_error: 0.1680\n",
            "Epoch 19/20\n",
            "\u001b[1m63/63\u001b[0m \u001b[32m━━━━━━━━━━━━━━━━━━━━\u001b[0m\u001b[37m\u001b[0m \u001b[1m0s\u001b[0m 5ms/step - loss: 0.0226 - mean_absolute_error: 0.1762 - val_loss: 0.0208 - val_mean_absolute_error: 0.1674\n",
            "Epoch 20/20\n",
            "\u001b[1m63/63\u001b[0m \u001b[32m━━━━━━━━━━━━━━━━━━━━\u001b[0m\u001b[37m\u001b[0m \u001b[1m1s\u001b[0m 5ms/step - loss: 0.0218 - mean_absolute_error: 0.1727 - val_loss: 0.0207 - val_mean_absolute_error: 0.1681\n",
            "Model saved to song_recommendation_model_fixed.keras\n"
          ]
        }
      ]
    },
    {
      "cell_type": "markdown",
      "source": [
        "## Model Evaluation\n",
        "\n",
        "Goal: Compare the predicted ratings (predicted_rating) with the actual ratings (y_test) to evaluate performance.\n",
        "\n",
        "Metrics Used:\n",
        "\n",
        "- Mean Absolute Error (MAE): Measures the average absolute difference between predicted and actual ratings.\n",
        "\n",
        "- Loss (MSE): Measures the squared difference between predicted and actual ratings."
      ],
      "metadata": {
        "id": "rE6Bzg5C_O5m"
      }
    },
    {
      "cell_type": "code",
      "source": [
        "# Evaluate on the test set\n",
        "loss, mae = model.evaluate([test_user, test_song, test_audio], y_test, verbose=1)\n",
        "print(f\"Test Loss: {loss}\")\n",
        "print(f\"Test MAE: {mae}\")\n",
        "\n",
        "# Plot the training history\n",
        "def plot_training_history(history):\n",
        "    # Loss plot\n",
        "    plt.figure(figsize=(10, 6))\n",
        "    plt.plot(history.history['loss'], label='Training Loss', marker='o')\n",
        "    plt.plot(history.history['val_loss'], label='Validation Loss', marker='o')\n",
        "    plt.title('Model Loss Over Epochs')\n",
        "    plt.xlabel('Epochs')\n",
        "    plt.ylabel('Loss')\n",
        "    plt.legend()\n",
        "    plt.grid(True)\n",
        "    plt.show()\n",
        "\n",
        "    # Mean Absolute Error plot\n",
        "    plt.figure(figsize=(10, 6))\n",
        "    plt.plot(history.history['mean_absolute_error'], label='Training MAE', marker='o')\n",
        "    plt.plot(history.history['val_mean_absolute_error'], label='Validation MAE', marker='o')\n",
        "    plt.title('Model Mean Absolute Error Over Epochs')\n",
        "    plt.xlabel('Epochs')\n",
        "    plt.ylabel('Mean Absolute Error')\n",
        "    plt.legend()\n",
        "    plt.grid(True)\n",
        "    plt.show()\n",
        "\n",
        "# Plot the training and validation metrics\n",
        "plot_training_history(history)\n"
      ],
      "metadata": {
        "colab": {
          "base_uri": "https://localhost:8080/",
          "height": 1000
        },
        "id": "_ZfQSvjA_Pkp",
        "outputId": "aeaf214b-4441-48ba-bb6b-7090f96826ec"
      },
      "execution_count": null,
      "outputs": [
        {
          "output_type": "stream",
          "name": "stdout",
          "text": [
            "\u001b[1m32/32\u001b[0m \u001b[32m━━━━━━━━━━━━━━━━━━━━\u001b[0m\u001b[37m\u001b[0m \u001b[1m0s\u001b[0m 1ms/step - loss: 0.0218 - mean_absolute_error: 0.1733 \n",
            "Test Loss: 0.020697366446256638\n",
            "Test MAE: 0.1680516004562378\n"
          ]
        },
        {
          "output_type": "display_data",
          "data": {
            "text/plain": [
              "<Figure size 1000x600 with 1 Axes>"
            ],
            "image/png": "[encoded data removed]"
          },
          "metadata": {}
        },
        {
          "output_type": "display_data",
          "data": {
            "text/plain": [
              "<Figure size 1000x600 with 1 Axes>"
            ],
            "image/png": "[encoded data removed]"
          },
          "metadata": {}
        }
      ]
    },
    {
      "cell_type": "markdown",
      "source": [
        "## Key Observations & Insights\n",
        "\n",
        "Training and validation loss decrease rapidly\n",
        "- During early epochs, training and validation loss decline quickly\n",
        "- Indicates model is learning effectively from data and capturing patterns in dataset\n",
        "- Fits well without difficulty\n",
        "\n",
        "Low validation loss\n",
        "- Strong alignment between model's predictions and actual ratings in validation set\n",
        "- Generalizing well to unseen data\n",
        "\n",
        "Training and validation loss converge towards the end\n",
        "- Model training stabilized\n",
        "- Balanced between bias and varience\n",
        "\n"
      ],
      "metadata": {
        "id": "yFGgbvZUhNqv"
      }
    },
    {
      "cell_type": "markdown",
      "source": [
        "## Generating Recommendations\n"
      ],
      "metadata": {
        "id": "ggbQ0teg_Qhr"
      }
    },
    {
      "cell_type": "code",
      "source": [
        "import pandas as pd\n",
        "import numpy as np\n",
        "from tensorflow.keras.models import load_model\n",
        "\n",
        "\n",
        "# Configure Pandas to display all rows and columns\n",
        "pd.set_option('display.max_rows', 100)  # Show all rows\n",
        "pd.set_option('display.max_columns', 100)  # Show all columns\n",
        "\n",
        "# Load the trained model\n",
        "model = load_model('song_recommendation_model_fixed.keras')\n",
        "print(\"Model loaded successfully.\")\n",
        "\n",
        "# Load the original training dataset\n",
        "dataset_path = \"combined_msd_with_ratings.csv\"  # Replace with actual path\n",
        "dataset = pd.read_csv(dataset_path)\n",
        "\n",
        "print(\"Loaded dataset:\")\n",
        "print(dataset.head())\n",
        "\n",
        "# Encode user_id and song_id as integers (same encoding used during training)\n",
        "user_ids = {user: idx for idx, user in enumerate(dataset['user_id'].unique())}\n",
        "song_ids = {song: idx for idx, song in enumerate(dataset['song_id'].unique())}\n",
        "\n",
        "dataset['user_idx'] = dataset['user_id'].map(user_ids)\n",
        "dataset['song_idx'] = dataset['song_id'].map(song_ids)\n",
        "\n",
        "# Load user interaction data (top 50 songs)\n",
        "user_data_path = \"user_top_50_songs.csv\"  # Replace with actual path\n",
        "user_data = pd.read_csv(user_data_path)\n",
        "\n",
        "print(\"Loaded user interaction data:\")\n",
        "print(user_data.head())\n",
        "\n",
        "# Map user interaction data to indices\n",
        "user_data['user_idx'] = user_data['user_id'].map(user_ids)\n",
        "user_data['song_idx'] = user_data['song_id'].map(song_ids)\n",
        "\n",
        "# Filter valid songs present in the dataset\n",
        "valid_songs = dataset[dataset['song_idx'].notna()].copy()\n",
        "valid_songs = valid_songs.drop_duplicates(subset=['song_id'])\n",
        "\n",
        "print(f\"Total valid songs for querying: {len(valid_songs)}\")\n",
        "\n",
        "# Function to generate recommendations\n",
        "def recommend_songs(user_id, user_data, valid_songs, model, top_n=10):\n",
        "    user_idx = user_data.loc[user_data['user_id'] == user_id, 'user_idx'].iloc[0]\n",
        "    valid_songs['user_idx'] = user_idx\n",
        "\n",
        "    # Prepare inputs for the model\n",
        "    user_input = np.array([user_idx] * len(valid_songs))\n",
        "    song_input = valid_songs['song_idx'].values\n",
        "    features = valid_songs[['tempo', 'loudness', 'key', 'mode', 'duration']].values\n",
        "\n",
        "    # Predict ratings and scale back to 1–5 range\n",
        "    predicted_ratings = model.predict([user_input, song_input, features])\n",
        "    predicted_ratings = np.clip(predicted_ratings * 4 + 1, 1, 5)  # Scale and clip to 1–5 range\n",
        "    valid_songs['predicted_rating'] = predicted_ratings\n",
        "\n",
        "    # Sort and return top recommendations\n",
        "    recommendations = valid_songs.sort_values(by='predicted_rating', ascending=False).head(top_n)\n",
        "    return recommendations[['song_id', 'title', 'artist_name', 'predicted_rating']]\n",
        "\n",
        "# Generate recommendations for the test user\n",
        "user_to_recommend = 'user_1'\n",
        "recommendations = recommend_songs(user_to_recommend, user_data, valid_songs, model, top_n=10)\n",
        "\n",
        "print(\"Recommendations for User:\")\n",
        "print(recommendations)\n"
      ],
      "metadata": {
        "colab": {
          "base_uri": "https://localhost:8080/"
        },
        "id": "Q3Okp96q_RdG",
        "outputId": "63380e7e-e884-4590-8afa-5fc55df12eb0"
      },
      "execution_count": null,
      "outputs": [
        {
          "output_type": "stream",
          "name": "stdout",
          "text": [
            "Model loaded successfully.\n",
            "Loaded dataset:\n",
            "  user_id             song_id    rating                          artist_name  \\\n",
            "0  user_1  SOUIYTT12A8C137D45  4.397447            The Johnny Otis Orchestra   \n",
            "1  user_1  SOSIVYG12A6D4F93A9  3.985936                               G-Unit   \n",
            "2  user_1  SOIWLHH12A8C13B9EE  4.420809                    The Cate Brothers   \n",
            "3  user_1  SOPYMLY12AC3DF67AE  4.635163  Disco D feat. Lola Damone & Helluva   \n",
            "4  user_1  SOMCTKM12A8C138B86  1.201849                Juan Carlos Baglietto   \n",
            "\n",
            "                                     title                   release  \\\n",
            "0                                 Cry Baby    Jukebox Hits 1946-1954   \n",
            "1                      Poppin' Them Thangs              Hot Joints 2   \n",
            "2                                Radioland                 Radioland   \n",
            "3  Keys To The Whip (Straight Pimpin' Mix)  A Night At the Booty Bar   \n",
            "4                        Tiempos Dificiles         Actuar Para Vivir   \n",
            "\n",
            "   song_hotttnesss     tempo  loudness       key  mode  duration      year  \n",
            "0         0.360371  0.400520  0.589956  0.454545   1.0  0.099579  0.000000  \n",
            "1         0.761878  0.334983  0.958092  1.000000   1.0  0.132772  0.996517  \n",
            "2         0.360371  0.432058  0.798426  0.000000   1.0  0.150008  0.000000  \n",
            "3         0.360371  0.579619  0.840430  0.545455   1.0  0.124025  0.000000  \n",
            "4         0.201387  0.370364  0.711218  0.909091   1.0  0.127329  0.986070  \n",
            "Loaded user interaction data:\n",
            "  user_id song_id  rating artist_name    title  release  song_hotttnesss  \\\n",
            "0  user_1     SO1     3.0    Artist A  Song B1  Album A              0.5   \n",
            "1  user_1     SO2     3.5    Artist B  Song C2  Album B              0.6   \n",
            "2  user_1     SO3     4.0    Artist C  Song D3  Album C              0.7   \n",
            "3  user_1     SO4     3.0    Artist D  Song E4  Album D              0.5   \n",
            "4  user_1     SO5     3.5    Artist E  Song A5  Album E              0.6   \n",
            "\n",
            "   tempo  loudness  key  mode  duration  year  \n",
            "0    100        -5    0     0       3.0  2020  \n",
            "1    105        -6    1     1       3.1  2021  \n",
            "2    110        -7    2     0       3.2  2022  \n",
            "3    115        -5    3     1       3.0  2020  \n",
            "4    120        -6    4     0       3.1  2021  \n",
            "Total valid songs for querying: 3937\n",
            "\u001b[1m124/124\u001b[0m \u001b[32m━━━━━━━━━━━━━━━━━━━━\u001b[0m\u001b[37m\u001b[0m \u001b[1m1s\u001b[0m 4ms/step\n",
            "Recommendations for User:\n",
            "                 song_id                                 title  \\\n",
            "2465  SOPEKHR12A6D4FB338  Thrill Me (Atfc's Jackhammer Re-Rub)   \n",
            "4994  SOVDKIJ12AB017F4BA                       When Your Ready   \n",
            "4782  SOFIYUN12AB0184842   Afraid Of Change (Tribal Vocal Mix)   \n",
            "3242  SOGBJSK12AB018D052              Someone to Watch Over Me   \n",
            "267   SOHODRU12A81C230CE                               Genuine   \n",
            "4200  SOCKRAI12A81C20385                         Las Muchachas   \n",
            "572   SOWMUXA12AB01840EC                      The Lords Prayer   \n",
            "75    SOOLYAZ12A6701F4A6       Laws Patrolling (Album Version)   \n",
            "1101  SOVRIPF12A8C142FD3                       Conker The King   \n",
            "745   SOCCQJE12AB018722F             She Don't Move Me No More   \n",
            "\n",
            "                                            artist_name  predicted_rating  \n",
            "2465                                        Junior Jack          4.249516  \n",
            "4994                                            Dabbler          4.247478  \n",
            "4782                                         Casa Bulga          4.245521  \n",
            "3242                                  Frank Chacksfield          4.244379  \n",
            "267                                Five Fingers of Funk          4.242370  \n",
            "4200                                  Sonora Carruseles          4.241450  \n",
            "572                                        Jane Winther          4.241320  \n",
            "75         Mike Jones (Featuring CJ_ Mello & Lil' Bran)          4.241130  \n",
            "1101  Robin Beanland/Dweezil Zappa/Nile Rodgers/Rabb...          4.241090  \n",
            "745                                             BB King          4.239812  \n"
          ]
        }
      ]
    },
    {
      "cell_type": "markdown",
      "source": [
        "### Room for Improvement:\n",
        "Reducing overconfidence if any? (ratings too close to 5)\n",
        "- indicating overfitting or relying to heavily on specific features\n",
        "1. Huber loss instead of Mean Squared Error (MSE)\n",
        "- penalize large deviations more gently, making model less overconfident\n",
        "\n",
        "2. Regularization\n",
        "- increase dropout rate in the dense layers\n",
        "\n",
        "3. Data preprocessing\n",
        "- dataset might be biased towards higher ratings (3-5)\n",
        "- augment dataset with more diverse user preferences for balanced distribution of ratings (1-5)\n",
        "\n",
        "4. Additional audio features\n",
        "- features like danceability, instrumentalness, speechiness, etc. to capture subtle differences to differentiate songs\n",
        "\n"
      ],
      "metadata": {
        "id": "npZlQ1bH87Cf"
      }
    },
    {
      "cell_type": "markdown",
      "source": [
        "## Potential Applications & Future Development\n",
        "\n",
        "\n",
        "### Applications:\n",
        "- Spotify DJ/Daylist but better?\n",
        "- Discovery of new and niche tracks encouraging exploration of underground artists\n",
        "\n",
        "### Future Development\n",
        "- Spotify API integration and community-based data such as RateYourMusic to curate better recommendations\n",
        "- New API limitations making scalability more difficult\n",
        "- otherwise, testing with full music database"
      ],
      "metadata": {
        "id": "B1pGGluzC4YH"
      }
    },
    {
      "cell_type": "code",
      "source": [],
      "metadata": {
        "id": "wlOp5GJzFmcD"
      },
      "execution_count": null,
      "outputs": []
    }
  ]
}